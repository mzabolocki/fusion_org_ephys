{
 "cells": [
  {
   "cell_type": "markdown",
   "metadata": {},
   "source": [
    "# MUA spike and feature extractions\n",
    "-----\n",
    "\n",
    "Example notebook for multi-unit spike extractions and feature extractions on \n",
    "extracellular recordings using Cambridge Neurotech silicon probes in fused organoids. "
   ]
  },
  {
   "cell_type": "markdown",
   "metadata": {},
   "source": [
    "**load libraries**"
   ]
  },
  {
   "cell_type": "code",
   "execution_count": 1,
   "metadata": {},
   "outputs": [],
   "source": [
    "import os\n",
    "import pathlib \n",
    "\n",
    "os.chdir('../..')\n",
    "\n",
    "from fused_org_ephys import FusedOrgSpikes"
   ]
  },
  {
   "cell_type": "markdown",
   "metadata": {},
   "source": [
    "## Load metadata\n",
    "----\n",
    "\n",
    "First, initialize the ```FusedOrgSpikes``` class and check the metadata of all files wishing to be analysed. \n",
    "\n",
    "In all cases, metadata from the recording and tissue culture is attached to each file. For certain information, this is not accessible from the raw files themselves and hence is extracted from a *.csv file which contains information regarding the cell-line information. \n",
    "\n",
    "Extra information, such as the organoids age, is computed automatically from the embryoid body and experiment recording dates. In addition, optogenetic and/stimulation times or drug application times are automatically retrieved from the OpenEphys gui message output folder (```.../Message_Center-904.0/TEXT_group_1```).\n",
    "\n"
   ]
  },
  {
   "cell_type": "markdown",
   "metadata": {},
   "source": [
    "First, set your path the metadata *.csv. "
   ]
  },
  {
   "cell_type": "code",
   "execution_count": 2,
   "metadata": {},
   "outputs": [],
   "source": [
    "metadata_path = pathlib.PurePath('Daniel_SiPro_Data', 'Data', 'fused_org_metadata_test.xlsx')"
   ]
  },
  {
   "cell_type": "markdown",
   "metadata": {},
   "source": [
    "Next, set the base folder containing all open ephys recording outputs. "
   ]
  },
  {
   "cell_type": "code",
   "execution_count": 3,
   "metadata": {},
   "outputs": [],
   "source": [
    "base_folder = 'Daniel_SiPro_Data/Data'"
   ]
  },
  {
   "cell_type": "markdown",
   "metadata": {},
   "source": [
    "Now, initiate the ```FusedOrgSpikes``` class and check the metadata of the found recordings, along with their metadata.  "
   ]
  },
  {
   "cell_type": "code",
   "execution_count": 4,
   "metadata": {},
   "outputs": [
    {
     "data": {
      "text/html": [
       "<div>\n",
       "<style scoped>\n",
       "    .dataframe tbody tr th:only-of-type {\n",
       "        vertical-align: middle;\n",
       "    }\n",
       "\n",
       "    .dataframe tbody tr th {\n",
       "        vertical-align: top;\n",
       "    }\n",
       "\n",
       "    .dataframe thead th {\n",
       "        text-align: right;\n",
       "    }\n",
       "</style>\n",
       "<table border=\"1\" class=\"dataframe\">\n",
       "  <thead>\n",
       "    <tr style=\"text-align: right;\">\n",
       "      <th></th>\n",
       "      <th>index</th>\n",
       "      <th>expID</th>\n",
       "      <th>exp_day</th>\n",
       "      <th>file</th>\n",
       "      <th>EB</th>\n",
       "      <th>condition</th>\n",
       "      <th>left_probe</th>\n",
       "      <th>right_probe</th>\n",
       "      <th>organoid</th>\n",
       "      <th>record_node</th>\n",
       "      <th>...</th>\n",
       "      <th>opto_end_1</th>\n",
       "      <th>ages</th>\n",
       "      <th>1_syncmessage_time</th>\n",
       "      <th>1_syncmessage_txt</th>\n",
       "      <th>2_syncmessage_time</th>\n",
       "      <th>2_syncmessage_txt</th>\n",
       "      <th>3_syncmessage_time</th>\n",
       "      <th>3_syncmessage_txt</th>\n",
       "      <th>4_syncmessage_time</th>\n",
       "      <th>4_syncmessage_txt</th>\n",
       "    </tr>\n",
       "  </thead>\n",
       "  <tbody>\n",
       "    <tr>\n",
       "      <th>0</th>\n",
       "      <td>0</td>\n",
       "      <td>DR0016</td>\n",
       "      <td>2022-11-25</td>\n",
       "      <td>DR016_2022-11-25_20-59-52_64P</td>\n",
       "      <td>2022-06-24</td>\n",
       "      <td>NORMAL</td>\n",
       "      <td>ASSY-77-P-2</td>\n",
       "      <td>None</td>\n",
       "      <td>H9_WT</td>\n",
       "      <td>NaN</td>\n",
       "      <td>...</td>\n",
       "      <td>1200.0</td>\n",
       "      <td>154.0</td>\n",
       "      <td>600.0</td>\n",
       "      <td>baseline_stimulation_start</td>\n",
       "      <td>1200.0</td>\n",
       "      <td>baseline_stimulation_end</td>\n",
       "      <td>NaN</td>\n",
       "      <td>NaN</td>\n",
       "      <td>NaN</td>\n",
       "      <td>NaN</td>\n",
       "    </tr>\n",
       "    <tr>\n",
       "      <th>1</th>\n",
       "      <td>1</td>\n",
       "      <td>DR0019</td>\n",
       "      <td>2023-05-06</td>\n",
       "      <td>DR019_2023-05-06_18-43-42</td>\n",
       "      <td>2022-11-25</td>\n",
       "      <td>NORMAL</td>\n",
       "      <td>ASSY-77-P-2</td>\n",
       "      <td>None</td>\n",
       "      <td>H9_WT</td>\n",
       "      <td>103.0</td>\n",
       "      <td>...</td>\n",
       "      <td>1200.0</td>\n",
       "      <td>162.0</td>\n",
       "      <td>600.0</td>\n",
       "      <td>baseline_stimulation_start</td>\n",
       "      <td>1200.0</td>\n",
       "      <td>baseline_stimulation_end</td>\n",
       "      <td>NaN</td>\n",
       "      <td>NaN</td>\n",
       "      <td>NaN</td>\n",
       "      <td>NaN</td>\n",
       "    </tr>\n",
       "    <tr>\n",
       "      <th>2</th>\n",
       "      <td>2</td>\n",
       "      <td>DR0022</td>\n",
       "      <td>2023-05-15</td>\n",
       "      <td>DR022_2023-05-15_20-52-41</td>\n",
       "      <td>2022-11-25</td>\n",
       "      <td>NORMAL</td>\n",
       "      <td>ASSY-77-P-2</td>\n",
       "      <td>None</td>\n",
       "      <td>H9_WT</td>\n",
       "      <td>103.0</td>\n",
       "      <td>...</td>\n",
       "      <td>1200.0</td>\n",
       "      <td>171.0</td>\n",
       "      <td>600.0</td>\n",
       "      <td>baseline_stimulation_start</td>\n",
       "      <td>1200.0</td>\n",
       "      <td>baseline_stimulation_end</td>\n",
       "      <td>1200.0</td>\n",
       "      <td>synaptic_cocktail</td>\n",
       "      <td>1500.0</td>\n",
       "      <td>synaptic_cocktail_stimulation_start</td>\n",
       "    </tr>\n",
       "  </tbody>\n",
       "</table>\n",
       "<p>3 rows × 30 columns</p>\n",
       "</div>"
      ],
      "text/plain": [
       "   index   expID    exp_day                           file         EB  \\\n",
       "0      0  DR0016 2022-11-25  DR016_2022-11-25_20-59-52_64P 2022-06-24   \n",
       "1      1  DR0019 2023-05-06      DR019_2023-05-06_18-43-42 2022-11-25   \n",
       "2      2  DR0022 2023-05-15      DR022_2023-05-15_20-52-41 2022-11-25   \n",
       "\n",
       "  condition   left_probe right_probe organoid  record_node  ...  opto_end_1  \\\n",
       "0    NORMAL  ASSY-77-P-2        None    H9_WT          NaN  ...      1200.0   \n",
       "1    NORMAL  ASSY-77-P-2        None    H9_WT        103.0  ...      1200.0   \n",
       "2    NORMAL  ASSY-77-P-2        None    H9_WT        103.0  ...      1200.0   \n",
       "\n",
       "    ages 1_syncmessage_time           1_syncmessage_txt  2_syncmessage_time  \\\n",
       "0  154.0              600.0  baseline_stimulation_start              1200.0   \n",
       "1  162.0              600.0  baseline_stimulation_start              1200.0   \n",
       "2  171.0              600.0  baseline_stimulation_start              1200.0   \n",
       "\n",
       "          2_syncmessage_txt 3_syncmessage_time  3_syncmessage_txt  \\\n",
       "0  baseline_stimulation_end                NaN                NaN   \n",
       "1  baseline_stimulation_end                NaN                NaN   \n",
       "2  baseline_stimulation_end             1200.0  synaptic_cocktail   \n",
       "\n",
       "  4_syncmessage_time                    4_syncmessage_txt  \n",
       "0                NaN                                  NaN  \n",
       "1                NaN                                  NaN  \n",
       "2             1500.0  synaptic_cocktail_stimulation_start  \n",
       "\n",
       "[3 rows x 30 columns]"
      ]
     },
     "execution_count": 4,
     "metadata": {},
     "output_type": "execute_result"
    }
   ],
   "source": [
    "mua = FusedOrgSpikes(metadata_path = metadata_path, base_folder=base_folder)\n",
    "\n",
    "mua.metadata"
   ]
  },
  {
   "cell_type": "markdown",
   "metadata": {},
   "source": [
    "Cross-check that the correct file paths were found for each recording. "
   ]
  },
  {
   "cell_type": "code",
   "execution_count": 5,
   "metadata": {},
   "outputs": [
    {
     "data": {
      "text/plain": [
       "[PurePosixPath('Daniel_SiPro_Data/Data/DR016_2022-11-25_20-59-52_64P/experiment1/recording2/continuous/Channel_Map-101_100.0/continuous.dat'),\n",
       " PurePosixPath('Daniel_SiPro_Data/Data/DR019_2023-05-06_18-43-42/Record Node 103/experiment1/recording1/continuous/Intan_Rec._Controller-100.0/continuous.dat'),\n",
       " PurePosixPath('Daniel_SiPro_Data/Data/DR022_2023-05-15_20-52-41/Record Node 103/experiment1/recording1/continuous/Intan_Rec._Controller-100.0/continuous.dat')]"
      ]
     },
     "execution_count": 5,
     "metadata": {},
     "output_type": "execute_result"
    }
   ],
   "source": [
    "mua.file_path_info['file_paths']"
   ]
  },
  {
   "cell_type": "markdown",
   "metadata": {},
   "source": [
    "## Multi-unit spike extraction\n",
    "-----\n",
    "\n",
    "Initialize the ```FusedOrgEphys``` class. \n",
    "\n",
    "Set the path to metadata file, and base folder containing extracellular recordings from the OpeEphys GUI (as shown above). \n",
    "\n",
    "Next, select the ```expID``` of the organoid recording for analysis. \n",
    "\n",
    "NOTE: entire recordings were analysed and extracted for the paper. However, time ranges can be set for processing using ```time_range```. An example is shown below. "
   ]
  },
  {
   "cell_type": "code",
   "execution_count": 6,
   "metadata": {},
   "outputs": [
    {
     "name": "stdout",
     "output_type": "stream",
     "text": [
      "======================================================================\n",
      "                🧠 ORGANOID OPENEPHYS LOADER OVERVIEW 🧠                \n",
      "                                  \n",
      "                                   \n",
      "File path : Daniel_SiPro_Data/Data/DR022_2023-05-15_20-52-41/Record Node 103/experiment1/recording1/continuous/Intan_Rec._Controller-100.0/continuous.dat\n",
      "                  Loading *.dat file from file path                   \n",
      "                                  \n",
      "                                   \n",
      "                       Left probe : ASSY-77-P-2                       \n",
      "                          Right probe : None                          \n",
      "                     Left & right probe selection                     \n",
      "                                  \n",
      "                                   \n",
      "                        Channel id length : 67                        \n",
      "                    Initial number of channel IDs                     \n",
      "                                  \n",
      "                                   \n",
      "                     Post-QC channels removed : 4                     \n",
      "     Post-channel removal channel number (including AUX numbers)      \n",
      "                                  \n",
      "                                   \n",
      "                      Common reference : median                       \n",
      "               Common reference (median, mean or None)                \n",
      "                                  \n",
      "                                   \n",
      "                   Sampling frequency (Hz) : 30000                    \n",
      "                       Sampling frequency (Hz)                        \n",
      "                                  \n",
      "                                   \n",
      "                  Recording length (seconds): 1250.0                  \n",
      "                    Total recording length (sec.)                     \n",
      "======================================================================\n"
     ]
    }
   ],
   "source": [
    "mua = FusedOrgSpikes(metadata_path = metadata_path, expID=['DR0022'], time_range = [0,1250], base_folder='Daniel_SiPro_Data/Data')"
   ]
  },
  {
   "cell_type": "markdown",
   "metadata": {},
   "source": [
    "Save the mua spike array into the ```save_folder```."
   ]
  },
  {
   "cell_type": "code",
   "execution_count": 7,
   "metadata": {},
   "outputs": [
    {
     "name": "stdout",
     "output_type": "stream",
     "text": [
      "The directory already exists for Daniel_SiPro_Data/Data/Processed/revision2/muaspikes/\n",
      "saving to: Daniel_SiPro_Data/Data/Processed/revision2/muaspikes/DR0022_mua_spikes_test.pkl\n",
      "saved\n"
     ]
    }
   ],
   "source": [
    "expID = mua.metadata['expID'].values[0] # find expID\n",
    "fname = expID + '_mua_spikes_test' # create filename\n",
    "\n",
    "mua.save_muaspikes(fname=fname)"
   ]
  },
  {
   "cell_type": "markdown",
   "metadata": {},
   "source": [
    "Alternatively, if a pickled mua spike array was previously processed and saved using the ```group_save_muaspikearr``` module. This can be directly opened, as shown below by parsing a file path to the file in ```spikearr_fpath```."
   ]
  },
  {
   "cell_type": "code",
   "execution_count": 5,
   "metadata": {},
   "outputs": [
    {
     "name": "stdout",
     "output_type": "stream",
     "text": [
      "loading Daniel_SiPro_Data/Data/Processed/revision2/muaspikes/DR0022_mua_spikes_test.pkl\n"
     ]
    }
   ],
   "source": [
    "mua = FusedOrgSpikes(spikearr_fpath = 'Daniel_SiPro_Data/Data/Processed/revision2/muaspikes/DR0022_mua_spikes_test.pkl')"
   ]
  },
  {
   "cell_type": "markdown",
   "metadata": {},
   "source": [
    "## Multi-unit spike analysis\n",
    "-----\n",
    "\n",
    "\n",
    "#### **Filter for active channels**\n",
    "\n",
    "\n",
    "Actve channels are determined across optogenetic stimulation segments at baseline (no drugs), and must have > 50 spks (5 spks/min) over 10-minutes. "
   ]
  },
  {
   "cell_type": "code",
   "execution_count": 6,
   "metadata": {},
   "outputs": [
    {
     "name": "stdout",
     "output_type": "stream",
     "text": [
      "baseline opto start: 602.645\n",
      "filter channels with >= 5.0 spks/min | time interval [602.645, 1202.645] seconds\n"
     ]
    }
   ],
   "source": [
    "baseline_opto_start = mua.metadata['1_syncmessage_time'].values[0]\n",
    "stim_length = 10*60\n",
    "\n",
    "print(f'baseline opto start: {baseline_opto_start}')\n",
    "\n",
    "mua.set_activechannels(spk_activechan_interval = [baseline_opto_start, baseline_opto_start+stim_length], spk_count_thresh = 50)"
   ]
  },
  {
   "cell_type": "markdown",
   "metadata": {},
   "source": [
    "### Set optogetnetic parameters\n",
    "----\n",
    "\n",
    "First, set this at baseline periods. "
   ]
  },
  {
   "cell_type": "code",
   "execution_count": 7,
   "metadata": {},
   "outputs": [],
   "source": [
    "train_dur = stim_length # length of optogenetic stimulus\n",
    "interval = 10 # pulse interval in ms\n",
    "dur = 0.5 # pulse duration in ms\n",
    "\n",
    "mua.set_baseline_optostim(start=baseline_opto_start, train_dur=train_dur, interval=interval, dur=dur)"
   ]
  },
  {
   "cell_type": "markdown",
   "metadata": {},
   "source": [
    "If applicable, repeat this for drug applications. If not, this skipped was skipped. "
   ]
  },
  {
   "cell_type": "code",
   "execution_count": 8,
   "metadata": {},
   "outputs": [],
   "source": [
    "baseline_opto_end = mua.metadata.opto_end_1.values[0]\n",
    "mua.set_drug_optostim(start=baseline_opto_end, train_dur=train_dur, interval=interval, dur=dur)"
   ]
  },
  {
   "cell_type": "markdown",
   "metadata": {},
   "source": [
    "#### **Return mean firing rate changes**\n",
    "\n",
    "Return a dataframe with mean firing rate changes, along with file metadata. \n",
    "\n",
    "This output can be used to compare the mean firing rates of different organoids pre- and post-optogenetic conditions. \n",
    "\n",
    "Save the dataframe to the ```save_folder```. File name is set as the expID. "
   ]
  },
  {
   "cell_type": "code",
   "execution_count": 9,
   "metadata": {},
   "outputs": [
    {
     "name": "stdout",
     "output_type": "stream",
     "text": [
      "The directory already exists for Daniel_SiPro_Data/Data/Processed/revision2/dataframes/\n",
      "saving to: Daniel_SiPro_Data/Data/Processed/revision2/dataframes/mfr_df_DR022_2023-05-15_20-52-41.xlsx\n",
      "saved\n"
     ]
    },
    {
     "data": {
      "text/html": [
       "<div>\n",
       "<style scoped>\n",
       "    .dataframe tbody tr th:only-of-type {\n",
       "        vertical-align: middle;\n",
       "    }\n",
       "\n",
       "    .dataframe tbody tr th {\n",
       "        vertical-align: top;\n",
       "    }\n",
       "\n",
       "    .dataframe thead th {\n",
       "        text-align: right;\n",
       "    }\n",
       "</style>\n",
       "<table border=\"1\" class=\"dataframe\">\n",
       "  <thead>\n",
       "    <tr style=\"text-align: right;\">\n",
       "      <th></th>\n",
       "      <th>expID</th>\n",
       "      <th>exp_day</th>\n",
       "      <th>file</th>\n",
       "      <th>EB</th>\n",
       "      <th>organoid</th>\n",
       "      <th>ages</th>\n",
       "      <th>optostim_region</th>\n",
       "      <th>probe_region</th>\n",
       "      <th>chans</th>\n",
       "      <th>number_chans</th>\n",
       "      <th>...</th>\n",
       "      <th>mfr</th>\n",
       "      <th>mfr_opto</th>\n",
       "      <th>mfr_activechans</th>\n",
       "      <th>mfr_opto_activechans</th>\n",
       "      <th>mfr_perchan</th>\n",
       "      <th>mfr_opto_perchan</th>\n",
       "      <th>mfr_activechans_perchan</th>\n",
       "      <th>mfr_opto_activechans_perchan</th>\n",
       "      <th>responding_activechans</th>\n",
       "      <th>total_activechans</th>\n",
       "    </tr>\n",
       "    <tr>\n",
       "      <th>file</th>\n",
       "      <th></th>\n",
       "      <th></th>\n",
       "      <th></th>\n",
       "      <th></th>\n",
       "      <th></th>\n",
       "      <th></th>\n",
       "      <th></th>\n",
       "      <th></th>\n",
       "      <th></th>\n",
       "      <th></th>\n",
       "      <th></th>\n",
       "      <th></th>\n",
       "      <th></th>\n",
       "      <th></th>\n",
       "      <th></th>\n",
       "      <th></th>\n",
       "      <th></th>\n",
       "      <th></th>\n",
       "      <th></th>\n",
       "      <th></th>\n",
       "      <th></th>\n",
       "    </tr>\n",
       "  </thead>\n",
       "  <tbody>\n",
       "    <tr>\n",
       "      <th>DR022_2023-05-15_20-52-41</th>\n",
       "      <td>DR0022</td>\n",
       "      <td>2023-05-15</td>\n",
       "      <td>DR022_2023-05-15_20-52-41</td>\n",
       "      <td>2022-11-25</td>\n",
       "      <td>H9_WT</td>\n",
       "      <td>171.0</td>\n",
       "      <td>vmid</td>\n",
       "      <td>cortical</td>\n",
       "      <td>[0, 1, 2, 3, 4, 5, 6, 7, 8, 9, 10, 11, 12, 13,...</td>\n",
       "      <td>63</td>\n",
       "      <td>...</td>\n",
       "      <td>0.514735</td>\n",
       "      <td>3.13037</td>\n",
       "      <td>0.514735</td>\n",
       "      <td>3.13037</td>\n",
       "      <td>[0.25, 0.03833333333333333, 0.055, 0.0, 0.06, ...</td>\n",
       "      <td>[2.2783333333333333, 3.01, 3.0866666666666664,...</td>\n",
       "      <td>[0.25, 0.03833333333333333, 0.055, 0.0, 0.06, ...</td>\n",
       "      <td>[2.2783333333333333, 3.01, 3.0866666666666664,...</td>\n",
       "      <td>55</td>\n",
       "      <td>63</td>\n",
       "    </tr>\n",
       "  </tbody>\n",
       "</table>\n",
       "<p>1 rows × 26 columns</p>\n",
       "</div>"
      ],
      "text/plain": [
       "                            expID    exp_day                       file  \\\n",
       "file                                                                      \n",
       "DR022_2023-05-15_20-52-41  DR0022 2023-05-15  DR022_2023-05-15_20-52-41   \n",
       "\n",
       "                                  EB organoid   ages optostim_region  \\\n",
       "file                                                                   \n",
       "DR022_2023-05-15_20-52-41 2022-11-25    H9_WT  171.0            vmid   \n",
       "\n",
       "                          probe_region  \\\n",
       "file                                     \n",
       "DR022_2023-05-15_20-52-41     cortical   \n",
       "\n",
       "                                                                       chans  \\\n",
       "file                                                                           \n",
       "DR022_2023-05-15_20-52-41  [0, 1, 2, 3, 4, 5, 6, 7, 8, 9, 10, 11, 12, 13,...   \n",
       "\n",
       "                           number_chans  ...       mfr  mfr_opto  \\\n",
       "file                                     ...                       \n",
       "DR022_2023-05-15_20-52-41            63  ...  0.514735   3.13037   \n",
       "\n",
       "                           mfr_activechans  mfr_opto_activechans  \\\n",
       "file                                                               \n",
       "DR022_2023-05-15_20-52-41         0.514735               3.13037   \n",
       "\n",
       "                                                                 mfr_perchan  \\\n",
       "file                                                                           \n",
       "DR022_2023-05-15_20-52-41  [0.25, 0.03833333333333333, 0.055, 0.0, 0.06, ...   \n",
       "\n",
       "                                                            mfr_opto_perchan  \\\n",
       "file                                                                           \n",
       "DR022_2023-05-15_20-52-41  [2.2783333333333333, 3.01, 3.0866666666666664,...   \n",
       "\n",
       "                                                     mfr_activechans_perchan  \\\n",
       "file                                                                           \n",
       "DR022_2023-05-15_20-52-41  [0.25, 0.03833333333333333, 0.055, 0.0, 0.06, ...   \n",
       "\n",
       "                                                mfr_opto_activechans_perchan  \\\n",
       "file                                                                           \n",
       "DR022_2023-05-15_20-52-41  [2.2783333333333333, 3.01, 3.0866666666666664,...   \n",
       "\n",
       "                           responding_activechans  total_activechans  \n",
       "file                                                                  \n",
       "DR022_2023-05-15_20-52-41                      55                 63  \n",
       "\n",
       "[1 rows x 26 columns]"
      ]
     },
     "execution_count": 9,
     "metadata": {},
     "output_type": "execute_result"
    }
   ],
   "source": [
    "mfr_df = mua.return_mfr_df(time_window=600, save_folder = 'Daniel_SiPro_Data/Data/Processed/revision2/dataframes/')\n",
    "mfr_df"
   ]
  },
  {
   "cell_type": "markdown",
   "metadata": {},
   "source": [
    "Check key values such as mean firing rates at baseline vs optogenetic stimulation periods. "
   ]
  },
  {
   "cell_type": "code",
   "execution_count": 10,
   "metadata": {},
   "outputs": [
    {
     "name": "stdout",
     "output_type": "stream",
     "text": [
      "mfr at baseline: 0.5147354497354497 Hz | mfr during opto: 3.13037037037037 Hz | change pre-post: 608.15%\n"
     ]
    }
   ],
   "source": [
    "mfr_baseline = mfr_df.mfr.values[0]\n",
    "mfr_opto = mfr_df.mfr_opto.values[0]\n",
    "\n",
    "print(f'mfr at baseline: {mfr_baseline} Hz | mfr during opto: {mfr_opto} Hz | change pre-post: {mfr_opto/mfr_baseline*100:.2f}%')"
   ]
  },
  {
   "cell_type": "markdown",
   "metadata": {},
   "source": [
    "## Visualizations\n",
    "-----\n",
    "\n",
    "Visualize rasterplot, split across multiple shanks, with optogenetic stimulation tags.\n",
    "\n",
    "First, generate and set the network event vector. "
   ]
  },
  {
   "cell_type": "code",
   "execution_count": 11,
   "metadata": {},
   "outputs": [
    {
     "name": "stdout",
     "output_type": "stream",
     "text": [
      "generating network event vector using active channels\n"
     ]
    }
   ],
   "source": [
    "mua.set_network_event"
   ]
  },
  {
   "cell_type": "markdown",
   "metadata": {},
   "source": [
    "Next, plot the rasterplot for a given xlim. Here, we have isolated the period +/- 100 seconds around the first optostimulation pulse. "
   ]
  },
  {
   "cell_type": "code",
   "execution_count": 12,
   "metadata": {},
   "outputs": [
    {
     "name": "stdout",
     "output_type": "stream",
     "text": [
      "baseline_stimulation_start at stimulation time: 600.0 seconds, in expID: DR022_2023-05-15_20-52-41\n"
     ]
    }
   ],
   "source": [
    "opto_text_1 = mua.metadata['1_syncmessage_txt'].values[0]\n",
    "opto_time_1 = mua.metadata['1_syncmessage_time'].values[0]\n",
    "expID = mua.metadata['file'].values[0]\n",
    "\n",
    "print(f'{opto_text_1} at stimulation time: {opto_time_1} seconds, in expID: {expID}')"
   ]
  },
  {
   "cell_type": "code",
   "execution_count": 13,
   "metadata": {},
   "outputs": [
    {
     "name": "stdout",
     "output_type": "stream",
     "text": [
      "plotting opto raster with active channels\n"
     ]
    },
    {
     "data": {
      "image/png": "[encoded data removed]",
      "text/plain": [
       "<Figure size 768x576 with 3 Axes>"
      ]
     },
     "metadata": {},
     "output_type": "display_data"
    }
   ],
   "source": [
    "mua.opto_rasterplot(xlim = [opto_time_1-100, opto_time_1+100])"
   ]
  },
  {
   "cell_type": "code",
   "execution_count": null,
   "metadata": {},
   "outputs": [],
   "source": []
  }
 ],
 "metadata": {
  "kernelspec": {
   "display_name": "Python 3.9.15 ('tsc_ephys_venv')",
   "language": "python",
   "name": "python3"
  },
  "language_info": {
   "codemirror_mode": {
    "name": "ipython",
    "version": 3
   },
   "file_extension": ".py",
   "mimetype": "text/x-python",
   "name": "python",
   "nbconvert_exporter": "python",
   "pygments_lexer": "ipython3",
   "version": "3.10.1"
  },
  "orig_nbformat": 4,
  "vscode": {
   "interpreter": {
    "hash": "0dd133a9612542d9e59d4884d4819962e8d0be057e4d3f7bcf6587188c1d3a1e"
   }
  }
 },
 "nbformat": 4,
 "nbformat_minor": 2
}
